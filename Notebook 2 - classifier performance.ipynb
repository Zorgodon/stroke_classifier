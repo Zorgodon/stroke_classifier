{
 "cells": [
  {
   "cell_type": "markdown",
   "id": "2654935f",
   "metadata": {},
   "source": [
    "# Predictivity analysis\n",
    "After the experiments done in notebook 1 it was decided that we will be using a KNeighbours classifier and splitting our data using the Stratified KFold method in scikit. \n",
    "\n",
    "In this notebook the predictivity of data trained using this model will be analysed and cross validated. "
   ]
  },
  {
   "cell_type": "markdown",
   "id": "46a85e3e",
   "metadata": {},
   "source": [
    "## Changing parameters in the classifier\n",
    "In this cell we change the "
   ]
  }
 ],
 "metadata": {
  "kernelspec": {
   "display_name": "Python 3",
   "language": "python",
   "name": "python3"
  },
  "language_info": {
   "codemirror_mode": {
    "name": "ipython",
    "version": 3
   },
   "file_extension": ".py",
   "mimetype": "text/x-python",
   "name": "python",
   "nbconvert_exporter": "python",
   "pygments_lexer": "ipython3",
   "version": "3.8.8"
  }
 },
 "nbformat": 4,
 "nbformat_minor": 5
}
